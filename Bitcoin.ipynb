{
  "nbformat": 4,
  "nbformat_minor": 0,
  "metadata": {
    "colab": {
      "name": "Bitcoin.ipynb",
      "provenance": [],
      "collapsed_sections": []
    },
    "kernelspec": {
      "name": "python3",
      "display_name": "Python 3"
    },
    "language_info": {
      "name": "python"
    }
  },
  "cells": [
    {
      "cell_type": "code",
      "execution_count": null,
      "metadata": {
        "id": "muu9CRmOYTM_"
      },
      "outputs": [],
      "source": [
        "!pip install yfinance --upgrade --no-cache-dir\n",
        "\n",
        "import math\n",
        "from datetime import datetime\n",
        "import numpy as np\n",
        "import pandas as pd\n",
        "import pandas_datareader.data as web\n",
        "import matplotlib.pyplot as plt\n",
        "import plotly.express as px\n",
        "import plotly.graph_objects as Dash\n",
        "import yfinance as yf\n",
        "yf.pdr_override()\n",
        "from keras.models import Sequential\n",
        "from keras.layers import Dense, LSTM\n",
        "from sklearn.preprocessing import MinMaxScaler\n",
        "\n",
        "import warnings\n",
        "warnings.filterwarnings('ignore')"
      ]
    },
    {
      "cell_type": "code",
      "source": [
        "# Pegar os dados do Bitcoin com o Yfinance\n",
        "Base_Dados = web.get_data_yahoo('BTC-USD', start='2021-01-01')\n",
        "Base_Dados.describe()"
      ],
      "metadata": {
        "id": "e7DxhCqvYjBU"
      },
      "execution_count": null,
      "outputs": []
    },
    {
      "cell_type": "code",
      "source": [
        "#px.line(Base_Dados, y='Close', title= 'Preço de Fechamento').show()"
      ],
      "metadata": {
        "id": "AAWynqLgYYX3"
      },
      "execution_count": null,
      "outputs": []
    },
    {
      "cell_type": "code",
      "source": [
        "# MM do fechamento\n",
        "Media_Movel = Base_Dados['Close'].rolling(9).mean()\n",
        "Media_Movel_Tendencia = Base_Dados['Close'].rolling(21).mean()\n",
        "\n",
        "Figura = Dash.Figure()\n",
        "\n",
        "Figura.add_trace(Dash.Scatter(x = Base_Dados.index, y = Base_Dados.Close, \n",
        "                    mode='lines',\n",
        "                    name='Fechamento',\n",
        "                    marker_color = '#FF7F0E'))\n",
        "\n",
        "Figura.add_trace(Dash.Scatter(x = Base_Dados.index, y = Media_Movel,\n",
        "                    mode='lines',\n",
        "                    name='MMS 9', opacity=0.5,\n",
        "                    marker_color = '#2CA02C',\n",
        "                    ))\n",
        "\n",
        "Figura.add_trace(Dash.Scatter(x = Base_Dados.index, y = Media_Movel_Tendencia,\n",
        "                    mode='lines',\n",
        "                    name='MMS 21', opacity=0.5,\n",
        "                    marker_color = '#D62728'))\n",
        "\n",
        "Figura.update_layout(\n",
        "    title='Histórico de Preço',\n",
        "    titlefont_size = 28,\n",
        "    \n",
        "    # eixo X\n",
        "    xaxis = dict( \n",
        "        title='Período Histórico',\n",
        "        titlefont_size=16, \n",
        "        tickfont_size=14),\n",
        "\n",
        "    height = 500, \n",
        "    \n",
        "    # eixo y\n",
        "    yaxis=dict(\n",
        "        title='Preço Bitcoint', \n",
        "        titlefont_size=16, \n",
        "        tickfont_size=14),  \n",
        "    \n",
        "    # legenda\n",
        "    legend=dict(\n",
        "        y=1, x=1,\n",
        "        bgcolor='rgba(255, 255, 255, 0)',\n",
        "        bordercolor='rgba(255, 255, 255, 0)'))\n",
        "\n",
        "Figura.show()"
      ],
      "metadata": {
        "id": "nAQ09IGyZuMY"
      },
      "execution_count": null,
      "outputs": []
    },
    {
      "cell_type": "code",
      "source": [
        "# escolanemnto\n",
        "Funcao_MinMAx = MinMaxScaler(feature_range=(0,1) )\n",
        "\n",
        "Dados_Treino = Base_Dados.filter(['Close'])\n",
        "\n",
        "Dados_Treino_Escalados = Funcao_MinMAx.fit_transform(Dados_Treino)"
      ],
      "metadata": {
        "id": "g0nYwPE2ZuRE"
      },
      "execution_count": null,
      "outputs": []
    },
    {
      "cell_type": "code",
      "source": [
        "x_treinamento = []\n",
        "y_treinamento = []\n",
        "\n",
        "for Loop in range(60, len(Dados_Treino_Escalados)):\n",
        "\n",
        "    Filtrando_Amostra_Treinamento_x = Dados_Treino_Escalados[ Loop-60 : Loop, 0 ]\n",
        "    x_treinamento.append( Filtrando_Amostra_Treinamento_x )\n",
        "\n",
        "    Filtrando_Amostra_Treinamento_y = Dados_Treino_Escalados[Loop, 0] \n",
        "    y_treinamento.append( Filtrando_Amostra_Treinamento_y )\n",
        "    \n",
        "x_treinamento, y_treinamento = np.array(x_treinamento), np.array(y_treinamento) \n",
        "\n",
        "x_treinamento = np.reshape(x_treinamento, (x_treinamento.shape[0], x_treinamento.shape[1], 1))"
      ],
      "metadata": {
        "id": "5VGVz4OXZuTm"
      },
      "execution_count": 131,
      "outputs": []
    },
    {
      "cell_type": "code",
      "source": [
        "Modelo = Sequential()\n",
        "\n",
        "# LSTM - Long Short-Term Memory\n",
        "Modelo.add(LSTM(50, return_sequences = True, \n",
        "                input_shape = (x_treinamento.shape[1], 1)))\n",
        "Modelo.add(LSTM(50, return_sequences = False))\n",
        "\n",
        "# Adicionando as camadas na rede neural\n",
        "Modelo.add(Dense(25))\n",
        "Modelo.add(Dense(1))\n",
        "Modelo.compile(optimizer = 'adam', loss = 'mean_squared_error')\n",
        "\n",
        "Modelo.fit(x_treinamento, y_treinamento, batch_size = 1, epochs = 15)"
      ],
      "metadata": {
        "id": "KOXQpYv9ZuWT"
      },
      "execution_count": null,
      "outputs": []
    },
    {
      "cell_type": "code",
      "source": [
        "# Definindo amostra para ser testada\n",
        "\n",
        "Dados_Fechamento_Valores_Tamanho = math.ceil( len(Dados_Treino) * .8)\n",
        "Dados_Teste = Dados_Treino_Escalados[Dados_Fechamento_Valores_Tamanho - 60: , :]\n",
        "\n",
        "x_teste = []\n",
        "\n",
        "y_Teste = Dados_Treino_Escalados[Dados_Fechamento_Valores_Tamanho:, :]\n",
        "\n",
        "for Loop in range (60, len(Dados_Teste)):\n",
        "    x_teste.append(Dados_Teste[Loop - 60:Loop, 0])\n",
        "\n",
        "x_teste = np.array(x_teste)\n",
        "\n",
        "x_teste = np.reshape(x_teste, (x_teste.shape[0], x_teste.shape[1], 1))\n",
        "\n",
        "\n",
        "Previsoes = Modelo.predict(x_teste)\n",
        "\n",
        "# RSME\n",
        "rsme = np.sqrt(np.mean(Previsoes - y_Teste) ** 2)\n",
        "print('Erro Quadrático Médio:', f\"{rsme:.2%}\")\n",
        "\n",
        "# Revertendo para escalas reais \n",
        "Previsoes = Funcao_MinMAx.inverse_transform(Previsoes)"
      ],
      "metadata": {
        "id": "luV60Ne-Zuat"
      },
      "execution_count": null,
      "outputs": []
    },
    {
      "cell_type": "code",
      "source": [
        "# real x modelo\n",
        "Validação = Dados_Treino[Dados_Fechamento_Valores_Tamanho:]\n",
        "\n",
        "Validação['Previsões'] = Previsoes"
      ],
      "metadata": {
        "id": "bJoQC5PVclmt"
      },
      "execution_count": 177,
      "outputs": []
    },
    {
      "cell_type": "code",
      "source": [
        "# Gráfico Dinâmico\n",
        "\n",
        "Figura = Dash.Figure()\n",
        "\n",
        "Figura.add_trace(Dash.Scatter(x = Validação.index, y = Validação.Close, \n",
        "                    mode='lines',\n",
        "                    name='Fechamento',\n",
        "                    marker_color = '#FF7F0E',\n",
        "                    ))\n",
        "\n",
        "Figura.add_trace(Dash.Scatter(x = Validação.index, y = Validação.Previsões,\n",
        "                    mode='lines',\n",
        "                    name='Previsão',\n",
        "                    marker_color = '#2CA02C',\n",
        "                    ))\n",
        "\n",
        "Figura.update_layout(\n",
        "    title='Realizado vs Modelo', \n",
        "    titlefont_size = 28,\n",
        "    \n",
        "    # eixo X\n",
        "    xaxis = dict( \n",
        "        title='Período Histórico', \n",
        "        titlefont_size=16, \n",
        "        tickfont_size=14),  \n",
        "\n",
        "    height = 500, \n",
        "    \n",
        "    # eixo y\n",
        "    yaxis=dict(\n",
        "        title='Preço do Bitcoin', \n",
        "        titlefont_size=16, \n",
        "        tickfont_size=14), \n",
        "    \n",
        "    # legenda\n",
        "    legend=dict(\n",
        "        y=1, x=1, \n",
        "        bgcolor='rgba(255, 255, 255, 0)', \n",
        "        bordercolor='rgba(255, 255, 255, 0)'))\n",
        "\n",
        "Figura.show()"
      ],
      "metadata": {
        "id": "J0k6V_uUcsSD"
      },
      "execution_count": null,
      "outputs": []
    },
    {
      "cell_type": "code",
      "source": [
        "fech, Prev = Validação.loc[datetime.today().strftime('%Y-%m-%d')]\n",
        "percentual = (Prev / Fech - 1)\n",
        "\n",
        "if percentual > 0:\n",
        "   print(\"Recomendação de COMPRA, valor previsto\", f\"{percentual:.2%}\", \"acima do fechamento!\")\n",
        "else:\n",
        "   print(\"Recomendação de VENDA, valor previsto\", f\"{percentual:.2%}\", \"abaixo do fechamento!\")"
      ],
      "metadata": {
        "id": "jdzKmXs2mpbp"
      },
      "execution_count": null,
      "outputs": []
    }
  ]
}